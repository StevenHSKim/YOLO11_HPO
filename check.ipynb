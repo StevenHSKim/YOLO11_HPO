{
 "cells": [
  {
   "cell_type": "code",
   "execution_count": 1,
   "metadata": {},
   "outputs": [
    {
     "name": "stdout",
     "output_type": "stream",
     "text": [
      "   epoch     time  train/box_loss  train/cls_loss  train/dfl_loss  \\\n",
      "0      1  126.531         7.03696         7.00248         4.21558   \n",
      "1      2  245.820         5.90378         5.84574         3.25607   \n",
      "\n",
      "   metrics/precision(B)  metrics/recall(B)  metrics/mAP50(B)  \\\n",
      "0                     0                  0                 0   \n",
      "1                     0                  0                 0   \n",
      "\n",
      "   metrics/mAP50-95(B)  val/box_loss  val/cls_loss  val/dfl_loss    lr/pg0  \\\n",
      "0                    0             0             0             0  0.000133   \n",
      "1                    0             0             0             0  0.000244   \n",
      "\n",
      "     lr/pg1    lr/pg2  \n",
      "0  0.000133  0.000133  \n",
      "1  0.000244  0.000244  \n"
     ]
    }
   ],
   "source": [
    "import pandas as pd\n",
    "\n",
    "data_frame = pd.read_csv('optuna_yolov11/trial_0/results.csv', encoding = 'utf-8')\n",
    "\n",
    "print(data_frame)"
   ]
  },
  {
   "cell_type": "code",
   "execution_count": 3,
   "metadata": {},
   "outputs": [
    {
     "name": "stdout",
     "output_type": "stream",
     "text": [
      "Index(['epoch', 'time', 'train/box_loss', 'train/cls_loss', 'train/dfl_loss',\n",
      "       'metrics/precision(B)', 'metrics/recall(B)', 'metrics/mAP50(B)',\n",
      "       'metrics/mAP50-95(B)', 'val/box_loss', 'val/cls_loss', 'val/dfl_loss',\n",
      "       'lr/pg0', 'lr/pg1', 'lr/pg2'],\n",
      "      dtype='object')\n",
      "0    0\n",
      "1    0\n",
      "Name: metrics/mAP50(B), dtype: int64\n",
      "0    0\n",
      "1    0\n",
      "Name: metrics/mAP50-95(B), dtype: int64\n",
      "0    0\n",
      "1    0\n",
      "Name: metrics/precision(B), dtype: int64\n",
      "0    0\n",
      "1    0\n",
      "Name: metrics/recall(B), dtype: int64\n"
     ]
    }
   ],
   "source": [
    "print(data_frame.columns)\n",
    "print(data_frame['metrics/mAP50(B)'])\n",
    "print(data_frame['metrics/mAP50-95(B)'])\n",
    "print(data_frame['metrics/precision(B)'])\n",
    "print(data_frame['metrics/recall(B)'])"
   ]
  }
 ],
 "metadata": {
  "kernelspec": {
   "display_name": "base",
   "language": "python",
   "name": "python3"
  },
  "language_info": {
   "codemirror_mode": {
    "name": "ipython",
    "version": 3
   },
   "file_extension": ".py",
   "mimetype": "text/x-python",
   "name": "python",
   "nbconvert_exporter": "python",
   "pygments_lexer": "ipython3",
   "version": "3.11.10"
  }
 },
 "nbformat": 4,
 "nbformat_minor": 2
}
