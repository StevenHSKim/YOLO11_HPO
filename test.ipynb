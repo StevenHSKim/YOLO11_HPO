{
 "cells": [
  {
   "cell_type": "code",
   "execution_count": 1,
   "metadata": {},
   "outputs": [
    {
     "name": "stdout",
     "output_type": "stream",
     "text": [
      "Ultralytics 8.3.80 🚀 Python-3.11.10 torch-2.5.1+cu124 CUDA:0 (NVIDIA GeForce RTX 3090, 24260MiB)\n",
      "                                                       CUDA:1 (NVIDIA GeForce RTX 3090, 24257MiB)\n",
      "\u001b[34m\u001b[1mengine/trainer: \u001b[0mtask=detect, mode=train, model=yolov11n_det.yaml, data=voc.yaml, epochs=1, time=None, patience=100, batch=128, imgsz=640, save=True, save_period=-1, cache=False, device=[0, 1], workers=8, project=None, name=train37, exist_ok=False, pretrained=True, optimizer=auto, verbose=True, seed=0, deterministic=True, single_cls=False, rect=False, cos_lr=False, close_mosaic=10, resume=False, amp=True, fraction=1.0, profile=False, freeze=None, multi_scale=False, overlap_mask=True, mask_ratio=4, dropout=0.0, val=True, split=val, save_json=False, save_hybrid=False, conf=None, iou=0.7, max_det=300, half=False, dnn=False, plots=True, source=None, vid_stride=1, stream_buffer=False, visualize=False, augment=False, agnostic_nms=False, classes=None, retina_masks=False, embed=None, show=False, save_frames=False, save_txt=False, save_conf=False, save_crop=False, show_labels=True, show_conf=True, show_boxes=True, line_width=None, format=torchscript, keras=False, optimize=False, int8=False, dynamic=False, simplify=True, opset=None, workspace=None, nms=False, lr0=0.01, lrf=0.01, momentum=0.937, weight_decay=0.0005, warmup_epochs=3.0, warmup_momentum=0.8, warmup_bias_lr=0.1, box=7.5, cls=0.5, dfl=1.5, pose=12.0, kobj=1.0, nbs=64, hsv_h=0.015, hsv_s=0.7, hsv_v=0.4, degrees=0.0, translate=0.1, scale=0.5, shear=0.0, perspective=0.0, flipud=0.0, fliplr=0.5, bgr=0.0, mosaic=1.0, mixup=0.0, copy_paste=0.0, copy_paste_mode=flip, auto_augment=randaugment, erasing=0.4, crop_fraction=1.0, cfg=None, tracker=botsort.yaml, save_dir=/ultralytics/runs/detect/train37\n"
     ]
    },
    {
     "name": "stderr",
     "output_type": "stream",
     "text": [
      "WARNING: All log messages before absl::InitializeLog() is called are written to STDERR\n",
      "E0000 00:00:1741162165.334362  136159 cuda_dnn.cc:8310] Unable to register cuDNN factory: Attempting to register factory for plugin cuDNN when one has already been registered\n",
      "E0000 00:00:1741162165.338068  136159 cuda_blas.cc:1418] Unable to register cuBLAS factory: Attempting to register factory for plugin cuBLAS when one has already been registered\n"
     ]
    },
    {
     "name": "stdout",
     "output_type": "stream",
     "text": [
      "Overriding model.yaml nc=80 with nc=20\n",
      "\n",
      "                   from  n    params  module                                       arguments                     \n",
      "  0                  -1  1       464  ultralytics.nn.modules.conv.Conv             [3, 16, 3, 2]                 \n",
      "  1                  -1  1      4672  ultralytics.nn.modules.conv.Conv             [16, 32, 3, 2]                \n",
      "  2                  -1  1      6640  ultralytics.nn.modules.block.C3k2            [32, 64, 1, False, 0.25]      \n",
      "  3                  -1  1     36992  ultralytics.nn.modules.conv.Conv             [64, 64, 3, 2]                \n",
      "  4                  -1  1     26080  ultralytics.nn.modules.block.C3k2            [64, 128, 1, False, 0.25]     \n",
      "  5                  -1  1    147712  ultralytics.nn.modules.conv.Conv             [128, 128, 3, 2]              \n",
      "  6                  -1  1     87040  ultralytics.nn.modules.block.C3k2            [128, 128, 1, True]           \n",
      "  7                  -1  1    295424  ultralytics.nn.modules.conv.Conv             [128, 256, 3, 2]              \n",
      "  8                  -1  1    346112  ultralytics.nn.modules.block.C3k2            [256, 256, 1, True]           \n",
      "  9                  -1  1    164608  ultralytics.nn.modules.block.SPPF            [256, 256, 5]                 \n",
      " 10                  -1  1    249728  ultralytics.nn.modules.block.C2PSA           [256, 256, 1]                 \n",
      " 11                  -1  1         0  torch.nn.modules.upsampling.Upsample         [None, 2, 'nearest']          \n",
      " 12             [-1, 6]  1         0  ultralytics.nn.modules.conv.Concat           [1]                           \n",
      " 13                  -1  1    111296  ultralytics.nn.modules.block.C3k2            [384, 128, 1, False]          \n",
      " 14                  -1  1         0  torch.nn.modules.upsampling.Upsample         [None, 2, 'nearest']          \n",
      " 15             [-1, 4]  1         0  ultralytics.nn.modules.conv.Concat           [1]                           \n",
      " 16                  -1  1     32096  ultralytics.nn.modules.block.C3k2            [256, 64, 1, False]           \n",
      " 17                  -1  1     36992  ultralytics.nn.modules.conv.Conv             [64, 64, 3, 2]                \n",
      " 18            [-1, 13]  1         0  ultralytics.nn.modules.conv.Concat           [1]                           \n",
      " 19                  -1  1     86720  ultralytics.nn.modules.block.C3k2            [192, 128, 1, False]          \n",
      " 20                  -1  1    147712  ultralytics.nn.modules.conv.Conv             [128, 128, 3, 2]              \n",
      " 21            [-1, 10]  1         0  ultralytics.nn.modules.conv.Concat           [1]                           \n",
      " 22                  -1  1    378880  ultralytics.nn.modules.block.C3k2            [384, 256, 1, True]           \n",
      " 23        [16, 19, 22]  1    434572  ultralytics.nn.modules.head.Detect           [20, [64, 128, 256]]          \n",
      "YOLOv11n_det summary: 181 layers, 2,593,740 parameters, 2,593,724 gradients, 6.5 GFLOPs\n",
      "\n",
      "\u001b[34m\u001b[1mDDP:\u001b[0m debug command /opt/conda/bin/python -m torch.distributed.run --nproc_per_node 2 --master_port 49419 /root/.config/Ultralytics/DDP/_temp_dd89p725133479373706320.py\n",
      "Ultralytics 8.3.80 🚀 Python-3.11.10 torch-2.5.1+cu124 CUDA:0 (NVIDIA GeForce RTX 3090, 24260MiB)\n",
      "                                                       CUDA:1 (NVIDIA GeForce RTX 3090, 24257MiB)\n"
     ]
    },
    {
     "name": "stderr",
     "output_type": "stream",
     "text": [
      "WARNING: All log messages before absl::InitializeLog() is called are written to STDERR\n",
      "E0000 00:00:1741162178.559904  136498 cuda_dnn.cc:8310] Unable to register cuDNN factory: Attempting to register factory for plugin cuDNN when one has already been registered\n",
      "E0000 00:00:1741162178.564426  136498 cuda_blas.cc:1418] Unable to register cuBLAS factory: Attempting to register factory for plugin cuBLAS when one has already been registered\n"
     ]
    },
    {
     "name": "stdout",
     "output_type": "stream",
     "text": [
      "\u001b[34m\u001b[1mTensorBoard: \u001b[0mStart with 'tensorboard --logdir /ultralytics/runs/detect/train37', view at http://localhost:6006/\n",
      "Overriding model.yaml nc=80 with nc=20\n",
      "Freezing layer 'model.23.dfl.conv.weight'\n",
      "\u001b[34m\u001b[1mAMP: \u001b[0mrunning Automatic Mixed Precision (AMP) checks...\n",
      "\u001b[34m\u001b[1mAMP: \u001b[0mchecks passed ✅\n"
     ]
    },
    {
     "name": "stderr",
     "output_type": "stream",
     "text": [
      "\u001b[34m\u001b[1mtrain: \u001b[0mScanning /DATA/VOC/labels/train2007.cache... 16551 images, 0 backgrounds, 0 corrupt: 100%|██████████| 16551/16551 [00:00<?, ?it/s]\n",
      "/opt/conda/lib/python3.11/site-packages/albumentations/__init__.py:28: UserWarning: A new version of Albumentations is available: '2.0.5' (you have '2.0.4'). Upgrade using: pip install -U albumentations. To disable automatic update checks, set the environment variable NO_ALBUMENTATIONS_UPDATE to 1.\n",
      "  check_for_updates()\n"
     ]
    },
    {
     "name": "stdout",
     "output_type": "stream",
     "text": [
      "\u001b[34m\u001b[1malbumentations: \u001b[0mBlur(p=0.01, blur_limit=(3, 7)), MedianBlur(p=0.01, blur_limit=(3, 7)), ToGray(p=0.01, num_output_channels=3, method='weighted_average'), CLAHE(p=0.01, clip_limit=(1.0, 4.0), tile_grid_size=(8, 8))\n"
     ]
    },
    {
     "name": "stderr",
     "output_type": "stream",
     "text": [
      "\u001b[34m\u001b[1mval: \u001b[0mScanning /DATA/VOC/labels/test2007.cache... 4952 images, 0 backgrounds, 0 corrupt: 100%|██████████| 4952/4952 [00:00<?, ?it/s]\n",
      "/opt/conda/lib/python3.11/site-packages/albumentations/__init__.py:28: UserWarning: A new version of Albumentations is available: '2.0.5' (you have '2.0.4'). Upgrade using: pip install -U albumentations. To disable automatic update checks, set the environment variable NO_ALBUMENTATIONS_UPDATE to 1.\n",
      "  check_for_updates()\n"
     ]
    },
    {
     "name": "stdout",
     "output_type": "stream",
     "text": [
      "Plotting labels to /ultralytics/runs/detect/train37/labels.jpg... \n",
      "\u001b[34m\u001b[1moptimizer:\u001b[0m 'optimizer=auto' found, ignoring 'lr0=0.01' and 'momentum=0.937' and determining best 'optimizer', 'lr0' and 'momentum' automatically... \n",
      "\u001b[34m\u001b[1moptimizer:\u001b[0m AdamW(lr=0.000417, momentum=0.9) with parameter groups 81 weight(decay=0.0), 88 weight(decay=0.001), 87 bias(decay=0.0)\n",
      "\u001b[34m\u001b[1mTensorBoard: \u001b[0mmodel graph visualization added ✅\n",
      "Image sizes 640 train, 640 val\n",
      "Using 16 dataloader workers\n",
      "Logging results to \u001b[1m/ultralytics/runs/detect/train37\u001b[0m\n",
      "Starting training for 1 epochs...\n",
      "\n",
      "      Epoch    GPU_mem   box_loss   cls_loss   dfl_loss  Instances       Size\n"
     ]
    },
    {
     "name": "stderr",
     "output_type": "stream",
     "text": [
      "        1/1      8.81G        3.3      4.954      4.136        102        640: 100%|██████████| 130/130 [00:35<00:00,  3.70it/s]\n",
      "                 Class     Images  Instances      Box(P          R      mAP50  mAP50-95): 100%|██████████| 39/39 [00:11<00:00,  3.49it/s]\n"
     ]
    },
    {
     "name": "stdout",
     "output_type": "stream",
     "text": [
      "                   all       4952      12032    0.00157    0.00373   0.000925   0.000353\n",
      "\n",
      "1 epochs completed in 0.014 hours.\n",
      "Optimizer stripped from /ultralytics/runs/detect/train37/weights/last.pt, 5.5MB\n",
      "Optimizer stripped from /ultralytics/runs/detect/train37/weights/best.pt, 5.5MB\n",
      "\n",
      "Validating /ultralytics/runs/detect/train37/weights/best.pt...\n",
      "Ultralytics 8.3.80 🚀 Python-3.11.10 torch-2.5.1+cu124 CUDA:0 (NVIDIA GeForce RTX 3090, 24260MiB)\n",
      "                                                       CUDA:1 (NVIDIA GeForce RTX 3090, 24257MiB)\n",
      "YOLOv11n_det summary (fused): 100 layers, 2,586,052 parameters, 0 gradients, 6.3 GFLOPs\n"
     ]
    },
    {
     "name": "stderr",
     "output_type": "stream",
     "text": [
      "                 Class     Images  Instances      Box(P          R      mAP50  mAP50-95): 100%|██████████| 39/39 [00:08<00:00,  4.40it/s]\n"
     ]
    },
    {
     "name": "stdout",
     "output_type": "stream",
     "text": [
      "                   all       4952      12032    0.00158    0.00374   0.000932   0.000356\n",
      "             aeroplane        204        285          0          0          0          0\n",
      "               bicycle        239        337          0          0          0          0\n",
      "                  bird        282        459          0          0          0          0\n",
      "                  boat        172        263          0          0          0          0\n",
      "                bottle        212        469          0          0          0          0\n",
      "                   bus        174        213          0          0          0          0\n",
      "                   car        721       1201          0          0          0          0\n",
      "                   cat        322        358          0          0          0          0\n",
      "                 chair        417        756          0          0          0          0\n",
      "                   cow        127        244          0          0          0          0\n",
      "           diningtable        190        206          0          0          0          0\n",
      "                   dog        418        489          0          0          0          0\n",
      "                 horse        274        348          0          0          0          0\n",
      "             motorbike        222        325          0          0          0          0\n",
      "                person       2007       4528     0.0315     0.0749     0.0186    0.00712\n",
      "           pottedplant        224        480          0          0          0          0\n",
      "                 sheep         97        242          0          0          0          0\n",
      "                  sofa        223        239          0          0          0          0\n",
      "                 train        259        282          0          0          0          0\n",
      "             tvmonitor        229        308          0          0          0          0\n",
      "Speed: 0.1ms preprocess, 0.4ms inference, 0.0ms loss, 0.3ms postprocess per image\n",
      "Results saved to \u001b[1m/ultralytics/runs/detect/train37\u001b[0m\n",
      "Ultralytics 8.3.80 🚀 Python-3.11.10 torch-2.5.1+cu124 CUDA:0 (NVIDIA GeForce RTX 3090, 24260MiB)\n",
      "                                                       CUDA:1 (NVIDIA GeForce RTX 3090, 24257MiB)\n",
      "YOLOv11n_det summary (fused): 100 layers, 2,586,052 parameters, 0 gradients, 6.3 GFLOPs\n"
     ]
    },
    {
     "name": "stderr",
     "output_type": "stream",
     "text": [
      "\u001b[34m\u001b[1mval: \u001b[0mScanning /DATA/VOC/labels/test2007.cache... 4952 images, 0 backgrounds, 0 corrupt: 100%|██████████| 4952/4952 [00:00<?, ?it/s]\n",
      "                 Class     Images  Instances      Box(P          R      mAP50  mAP50-95): 100%|██████████| 20/20 [00:13<00:00,  1.48it/s]\n"
     ]
    },
    {
     "name": "stdout",
     "output_type": "stream",
     "text": [
      "                   all       4952      12032    0.00152    0.00388   0.000916   0.000346\n",
      "             aeroplane        204        285          0          0          0          0\n",
      "               bicycle        239        337          0          0          0          0\n",
      "                  bird        282        459          0          0          0          0\n",
      "                  boat        172        263          0          0          0          0\n",
      "                bottle        212        469          0          0          0          0\n",
      "                   bus        174        213          0          0          0          0\n",
      "                   car        721       1201          0          0          0          0\n",
      "                   cat        322        358          0          0          0          0\n",
      "                 chair        417        756          0          0          0          0\n",
      "                   cow        127        244          0          0          0          0\n",
      "           diningtable        190        206          0          0          0          0\n",
      "                   dog        418        489          0          0          0          0\n",
      "                 horse        274        348          0          0          0          0\n",
      "             motorbike        222        325          0          0          0          0\n",
      "                person       2007       4528     0.0303     0.0775     0.0183    0.00692\n",
      "           pottedplant        224        480          0          0          0          0\n",
      "                 sheep         97        242          0          0          0          0\n",
      "                  sofa        223        239          0          0          0          0\n",
      "                 train        259        282          0          0          0          0\n",
      "             tvmonitor        229        308          0          0          0          0\n",
      "Speed: 0.2ms preprocess, 0.7ms inference, 0.0ms loss, 0.5ms postprocess per image\n",
      "Results saved to \u001b[1m/ultralytics/runs/detect/train372\u001b[0m\n"
     ]
    }
   ],
   "source": [
    "from ultralytics import YOLO\n",
    "\n",
    "model = YOLO('yolov11n_det.yaml')\n",
    "\n",
    "model.train(data = 'voc.yaml', epochs = 1, imgsz = 640, device = [0, 1], batch = 128)\n",
    "\n",
    "det_metrics = model.val(data = 'voc.yaml', imgsz = 640, device = [0, 1], batch = 256)"
   ]
  },
  {
   "cell_type": "code",
   "execution_count": 4,
   "metadata": {},
   "outputs": [
    {
     "name": "stdout",
     "output_type": "stream",
     "text": [
      "{'mAP50': 0.000915687531548165, 'mAP50-95': 0.00034608578149219777, 'precision': 0.0015171161825726141, 'recall': 0.0038758833922261484}\n"
     ]
    }
   ],
   "source": [
    "# 주요 메트릭 추출\n",
    "metrics = {\n",
    "    'mAP50': float(det_metrics.box.map50),\n",
    "    'mAP50-95': float(det_metrics.box.map),\n",
    "    'precision': float(det_metrics.box.mp),\n",
    "    'recall': float(det_metrics.box.mr)\n",
    "}\n",
    "print(metrics)"
   ]
  },
  {
   "cell_type": "code",
   "execution_count": null,
   "metadata": {},
   "outputs": [],
   "source": []
  }
 ],
 "metadata": {
  "kernelspec": {
   "display_name": "base",
   "language": "python",
   "name": "python3"
  },
  "language_info": {
   "codemirror_mode": {
    "name": "ipython",
    "version": 3
   },
   "file_extension": ".py",
   "mimetype": "text/x-python",
   "name": "python",
   "nbconvert_exporter": "python",
   "pygments_lexer": "ipython3",
   "version": "3.11.10"
  }
 },
 "nbformat": 4,
 "nbformat_minor": 2
}
